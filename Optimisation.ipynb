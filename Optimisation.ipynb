{
  "nbformat": 4,
  "nbformat_minor": 0,
  "metadata": {
    "colab": {
      "provenance": [],
      "authorship_tag": "ABX9TyOt1G2dW22s+NhpMX4qfag4",
      "include_colab_link": true
    },
    "kernelspec": {
      "name": "python3",
      "display_name": "Python 3"
    },
    "language_info": {
      "name": "python"
    }
  },
  "cells": [
    {
      "cell_type": "markdown",
      "metadata": {
        "id": "view-in-github",
        "colab_type": "text"
      },
      "source": [
        "<a href=\"https://colab.research.google.com/github/anishakurrey/anisha/blob/main/Optimisation.ipynb\" target=\"_parent\"><img src=\"https://colab.research.google.com/assets/colab-badge.svg\" alt=\"Open In Colab\"/></a>"
      ]
    },
    {
      "cell_type": "markdown",
      "source": [
        "S.t.\n",
        "X1 + X2 <= 40\n",
        "2X1 +X2 <=60\n",
        "X1 , X2 >= 0\n",
        "\n"
      ],
      "metadata": {
        "id": "3RTVM_ipjCBL"
      }
    },
    {
      "cell_type": "code",
      "source": [
        "import numpy as np\n",
        "import random\n",
        "import matplotlib.pyplot as plt\n"
      ],
      "metadata": {
        "id": "rsHrp71jjfyG"
      },
      "execution_count": 1,
      "outputs": []
    },
    {
      "cell_type": "code",
      "source": [
        "#Define the objective function\n",
        "def objective_function(X1,X2):\n",
        "  return 4*x1 + 3*x2\n",
        "\n",
        "  #Define Constraints\n",
        "  def constraint1(X1,X2):\n",
        "    return x1 + x2<=40\n",
        "\n",
        "    def constraint2(X1,X2):\n",
        "      return 2*x1+x2<=60\n"
      ],
      "metadata": {
        "id": "3gZTZz9mjxSb"
      },
      "execution_count": 20,
      "outputs": []
    },
    {
      "cell_type": "code",
      "source": [
        "def genetic_algorithm(population_size,num_generation):\n",
        "\n",
        "  #Initialization\n",
        "  population = []\n",
        "  fitness_history = []\n",
        "\n",
        "  for i in range(population_size):\n",
        "    x1 = random.uniform(0,40)\n",
        "    x2 = random.uniform(0,60)\n",
        "    population.append((x1,x2))\n",
        "\n",
        "    best_solution = None\n",
        "    best_fitness = float('-inf')\n",
        "\n",
        "    #Evaluation\n",
        "    fitness = [objective_function(x1,x2) for x1, x2 in population]\n",
        "    feasible_population = [individual for individual in population if constraint1(individual[0], individual[1]) and constraint2(individual[0], individual[1])]\n",
        "\n",
        "   #Selection\n",
        "  if feasible_population:\n",
        "    feasible_fitness = [objective_function(x1,x2) for x1,x2 in feasible_population]\n",
        "    parents = random.choices(feasible_population,weight=feasible_fitness,k=population_size)\n",
        "  else:\n",
        "      parents = []\n",
        "      while len(parents)<population_size:\n",
        "        potential_parents = random.choice(population,weights=fitness)\n",
        "        if constraint1(potential_parents[0],potential_parents[1]) and constraint1(potential_parents[0],potential_parents[1]):\n",
        "          parents.append(potential_parents)\n",
        "\n",
        "#Crossover\n",
        "  offspring = []\n",
        "  for i in range(population_size):\n",
        "   parent1,parent2 = random.choices(parents,k=2)\n",
        "   x1_child = random.uniform(min(parent1[0],parent2[0]),max(parent1[0],parent2[0]))\n",
        "   x2_child = random.uniform(min(parent1[1],parent2[1]),max(parent1[1],parent2[1]))\n",
        "   offspring.append((x1_child,x2_child))\n",
        "\n",
        "\n",
        "\n",
        "\n"
      ],
      "metadata": {
        "id": "emEJEzMQl33c"
      },
      "execution_count": 25,
      "outputs": []
    },
    {
      "cell_type": "code",
      "source": [],
      "metadata": {
        "id": "kWjOgiabJug-"
      },
      "execution_count": null,
      "outputs": []
    }
  ]
}